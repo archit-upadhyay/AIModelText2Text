{
 "cells": [
  {
   "cell_type": "markdown",
   "metadata": {},
   "source": [
    "# GPT2 (Text to text Model)"
   ]
  },
  {
   "cell_type": "markdown",
   "metadata": {},
   "source": [
    "### Import GPT2 Pre Trained LLM Model and Tokenizer"
   ]
  },
  {
   "cell_type": "code",
   "execution_count": 7,
   "metadata": {},
   "outputs": [],
   "source": [
    "from transformers import GPT2LMHeadModel, GPT2Tokenizer"
   ]
  },
  {
   "cell_type": "code",
   "execution_count": 8,
   "metadata": {},
   "outputs": [],
   "source": [
    "model_name = \"gpt2\"\n",
    "tokenizer = GPT2Tokenizer.from_pretrained(model_name)\n",
    "model = GPT2LMHeadModel.from_pretrained(model_name)"
   ]
  },
  {
   "cell_type": "markdown",
   "metadata": {},
   "source": [
    "### Prepare Input Text"
   ]
  },
  {
   "cell_type": "code",
   "execution_count": 23,
   "metadata": {},
   "outputs": [],
   "source": [
    "input_Text = \"Once upon a time in a futuristic world\"\n",
    "input = tokenizer.encode(input_Text, return_tensors=\"pt\")"
   ]
  },
  {
   "cell_type": "markdown",
   "metadata": {},
   "source": [
    "### Generate Output Text"
   ]
  },
  {
   "cell_type": "code",
   "execution_count": 25,
   "metadata": {},
   "outputs": [
    {
     "name": "stderr",
     "output_type": "stream",
     "text": [
      "The attention mask and the pad token id were not set. As a consequence, you may observe unexpected behavior. Please pass your input's `attention_mask` to obtain reliable results.\n",
      "Setting `pad_token_id` to `eos_token_id`:50256 for open-end generation.\n"
     ]
    },
    {
     "name": "stdout",
     "output_type": "stream",
     "text": [
      "Generated Text:\n",
      " Once upon a time in a futuristic world, the human race was ruled by an evil god. The gods were not only powerful but also cruel and ruthless; they had no mercy for those who did wrong or to others that harmed them.[1]\n",
      " (SG2: \"The Last Exodus\") In this universe, humanity is governed through two main systems of government - one based on religion as well with laws governing all aspects such things from law enforcement to education,[3][4], while another system has been created specifically around science fiction stories where humans are given power over their own bodies via technology known collectively as nanotechnology[5]. This allows people like Dr. Daniel Jackson-Smith to control his body using various technologies including artificial limbs which can be controlled remotely without any physical intervention whatsoever at will [6] . However, it does mean he must have some sort 'power' within him so if you want your powers back then use force instead! He's even able talk about how much more dangerous than being physically injured when fighting aliens... It seems there may be something going on here though since we know what happened after SG9 went missing during its mission into space… So far I've seen nothing out loud regarding these events other Thanos/Spartans would ever do anything against anyone else except themselves.. But now let's get started....\n",
      "\n",
      " (A) A New Hope : As mentioned above before , our heroes find ourselves trapped inside Earth under mysterious circumstances due largely because someone stole us away earlier today…. We're told everything along both sides until finally Captain America arrives aboard SGC 976 just days later having found himself stranded outside her home planet orbiting Saturn whilst trying desperately to save herself & everyone she loves!! She tells me why SHE DID IT AND WHY THEY ARE HERE!!! And yet somehow someway manages to escape?! Well apparently my friend isn't quite sure exactly whats happening right NOW BUT WE HAVE TO GO BACK IN TIME!!!! Now lets see..... What happens next? First off comes Doctor Strange telling Thor once again NOTHING IS HAPPENED WITH THE SHIELD SERIES OF THOR #7 !! That means Marvel Comics decided never stop working hard towards bringing new characters together despite knowing very little information surrounding each character prior – especially considering Spiderman already knows most Avengers aren´t really superheroes anymore….. Then suddenly Loki reveals THAT HE HAS BEYOND ALL HIS PROFESSIONALS WHO WERE NEVER MADE ANYTHING ELSE BEFORE HIM!!!!! Oh wait thats true too lol …and\n"
     ]
    }
   ],
   "source": [
    "output = model.generate(input_ids=input,\n",
    "    max_length=500,\n",
    "    num_return_sequences=1,\n",
    "    temperature=0.7,\n",
    "    top_k=50,\n",
    "    top_p=0.9,\n",
    "    pad_token_id=tokenizer.pad_token_id,\n",
    "    repetition_penalty=1.2)\n",
    "generated_text = tokenizer.decode(output[0], skip_special_tokens=True)\n",
    "print(\"Generated Text:\\n\", generated_text)"
   ]
  }
 ],
 "metadata": {
  "kernelspec": {
   "display_name": "Python 3",
   "language": "python",
   "name": "python3"
  },
  "language_info": {
   "codemirror_mode": {
    "name": "ipython",
    "version": 3
   },
   "file_extension": ".py",
   "mimetype": "text/x-python",
   "name": "python",
   "nbconvert_exporter": "python",
   "pygments_lexer": "ipython3",
   "version": "3.11.9"
  }
 },
 "nbformat": 4,
 "nbformat_minor": 2
}
